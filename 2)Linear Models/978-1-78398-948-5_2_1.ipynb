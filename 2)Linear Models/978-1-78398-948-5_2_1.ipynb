{
 "cells": [
  {
   "cell_type": "markdown",
   "metadata": {},
   "source": [
    "## Getting Ready\n",
    "\n",
    "Now, we get to do some modeling!  It's best to start simple, therefore we'll look at linear regression first.  The Boston dataset is perfect for for playing around with regression."
   ]
  },
  {
   "cell_type": "code",
   "execution_count": 1,
   "metadata": {},
   "outputs": [],
   "source": [
    "from sklearn import datasets\n",
    "boston = datasets.load_boston()"
   ]
  },
  {
   "cell_type": "markdown",
   "metadata": {},
   "source": [
    "## How to do it\n",
    "\n",
    "Actually using linear regression in Sci-Kit Learn is quite simple.  The API for linear regression is basically the same API you're now familiar with from the prior chapter.\n",
    "\n",
    "First, import the LinearRegression object and create a class."
   ]
  },
  {
   "cell_type": "code",
   "execution_count": 2,
   "metadata": {},
   "outputs": [],
   "source": [
    "from sklearn.linear_model import LinearRegression\n",
    "lr = LinearRegression()"
   ]
  },
  {
   "cell_type": "markdown",
   "metadata": {},
   "source": [
    "Now it's as easy as passing the independent and dependent variables to the LinearRegression's fit method."
   ]
  },
  {
   "cell_type": "code",
   "execution_count": 3,
   "metadata": {},
   "outputs": [
    {
     "data": {
      "text/plain": [
       "LinearRegression(copy_X=True, fit_intercept=True, n_jobs=1, normalize=False)"
      ]
     },
     "execution_count": 3,
     "metadata": {},
     "output_type": "execute_result"
    }
   ],
   "source": [
    "lr.fit(boston.data, boston.target)"
   ]
  },
  {
   "cell_type": "markdown",
   "metadata": {},
   "source": [
    "Now, to get the predictions."
   ]
  },
  {
   "cell_type": "code",
   "execution_count": 4,
   "metadata": {},
   "outputs": [],
   "source": [
    "predictions = lr.predict(boston.data)"
   ]
  },
  {
   "cell_type": "markdown",
   "metadata": {},
   "source": [
    "It's then probably a good idea to look at how close the predictions were to the actual data.  We can use use a histogram to look at the differences.  These are called the residuals."
   ]
  },
  {
   "cell_type": "code",
   "execution_count": 5,
   "metadata": {},
   "outputs": [
    {
     "data": {
      "image/png": "[encoded data removed]",
      "text/plain": [
       "<matplotlib.figure.Figure at 0xed94d70>"
      ]
     },
     "metadata": {},
     "output_type": "display_data"
    }
   ],
   "source": [
    "###don't show\n",
    "\n",
    "%matplotlib inline\n",
    "import matplotlib.pyplot as plt\n",
    "f = plt.figure(figsize=(7, 5))\n",
    "ax = f.add_subplot(111)\n",
    "ax.hist(boston.target - predictions, bins=50)\n",
    "ax.set_title(\"Histogram of Residuals.\")\n",
    "f.savefig(\"LinearRegression.png\")"
   ]
  },
  {
   "cell_type": "markdown",
   "metadata": {},
   "source": [
    "We'll talk a little bit more about how to evaluate the output of the regression in the next section.\n",
    "\n",
    "Let's take a look at the coefficients."
   ]
  },
  {
   "cell_type": "code",
   "execution_count": 6,
   "metadata": {},
   "outputs": [
    {
     "data": {
      "text/plain": [
       "array([-1.07170557e-01,  4.63952195e-02,  2.08602395e-02,  2.68856140e+00,\n",
       "       -1.77957587e+01,  3.80475246e+00,  7.51061703e-04, -1.47575880e+00,\n",
       "        3.05655038e-01, -1.23293463e-02, -9.53463555e-01,  9.39251272e-03,\n",
       "       -5.25466633e-01])"
      ]
     },
     "execution_count": 6,
     "metadata": {},
     "output_type": "execute_result"
    }
   ],
   "source": [
    "lr.coef_"
   ]
  },
  {
   "cell_type": "markdown",
   "metadata": {},
   "source": [
    "So going back to the data we can see which factors have a negative relationship with the outcome, and which factors have a positive relationship.  For example, and as expected, an increase in the per capita crime rate by town has a negative relationship with the price of a home in boston."
   ]
  },
  {
   "cell_type": "markdown",
   "metadata": {},
   "source": [
    "## How it works\n",
    "\n",
    "The basic idea of Linear Regression is to find the set of coefficients, $\\beta$ that statisfy, $y = X\\beta$.  Where $X$ is the data matrix.  Since it's unlikely that given that values of X we can find a set of coefficients which exactly statisties the equation due to an unexact specification or measurement error, an error term is added.  Therefore, the equation becomes $y = X\\beta + \\epsilon$.  $\\epsilon$ is assumed to be normally distributed, and independent of the X values.  Geometrically this means that the error terms are perpendictular to the X.  It's beyond the scope of this book, but it might be worth it to prove to yourself that $\\epsilon X = 0$.\n",
    "\n",
    "In order to find the set of betas which map the Xs to y we minimize the error term.  This is done by solving:\n",
    "\n",
    "$$ \\sum (y_i - X \\beta)^2$$\n",
    "\n",
    "This problem can be solved analytically, with the solution being $\\hat{\\beta}=(X^TX)^{-1}X^T\\hat{y}$.\n",
    "\n",
    "If you're familiar with the concept of a projection matrix you can then see that $y = P\\hat{y}$ where $P = X\\beta = X(X^TX)^{-1}X^T$  If you're not, the basic idea is that the projection matrix transforms the input vector to the vector space spanned by the $X$s.  Gaining an understanding of $P$ and $I - P$ are worthwhile to really grasp what regression is doing."
   ]
  },
  {
   "cell_type": "markdown",
   "metadata": {},
   "source": [
    "## There's more"
   ]
  },
  {
   "cell_type": "markdown",
   "metadata": {},
   "source": [
    "The `LinearRegression` object can automatically normalize (a.k.a. scale) the inputs."
   ]
  },
  {
   "cell_type": "code",
   "execution_count": 29,
   "metadata": {},
   "outputs": [
    {
     "data": {
      "text/plain": [
       "LinearRegression(copy_X=True, fit_intercept=True, normalize=True)"
      ]
     },
     "execution_count": 29,
     "metadata": {},
     "output_type": "execute_result"
    }
   ],
   "source": [
    "lr2 = LinearRegression(normalize=True)\n",
    "lr2.fit(boston.data, boston.target)"
   ]
  },
  {
   "cell_type": "code",
   "execution_count": 30,
   "metadata": {},
   "outputs": [],
   "source": [
    "predictions2 = lr2.predict(boston.data)"
   ]
  },
  {
   "cell_type": "code",
   "execution_count": 31,
   "metadata": {},
   "outputs": [
    {
     "data": {
      "text/plain": [
       "<matplotlib.text.Text at 0x112e24390>"
      ]
     },
     "execution_count": 31,
     "metadata": {},
     "output_type": "execute_result"
    },
    {
     "data": {
      "image/png": "[encoded data removed]",
      "text/plain": [
       "<matplotlib.figure.Figure at 0x112de3590>"
      ]
     },
     "metadata": {},
     "output_type": "display_data"
    }
   ],
   "source": [
    "%matplotlib inline\n",
    "import matplotlib.pyplot as plt\n",
    "f = plt.figure(figsize=(7, 5))\n",
    "ax = f.add_subplot(111)\n",
    "ax.hist(boston.target - predictions2, bins=50)\n",
    "ax.set_title(\"Histogram of Residuals when Normalized.\")"
   ]
  },
  {
   "cell_type": "markdown",
   "metadata": {},
   "source": [
    "It had no impact there, but that does not mean that it's a friviolous activity.  We're training and testing on the same dataset, but normalizing may help for new data, it will also be extremely important when we start dealing with scale varient techniques like SVM."
   ]
  }
 ],
 "metadata": {
  "kernelspec": {
   "display_name": "Python 3",
   "language": "python",
   "name": "python3"
  },
  "language_info": {
   "codemirror_mode": {
    "name": "ipython",
    "version": 3
   },
   "file_extension": ".py",
   "mimetype": "text/x-python",
   "name": "python",
   "nbconvert_exporter": "python",
   "pygments_lexer": "ipython3",
   "version": "3.6.3"
  }
 },
 "nbformat": 4,
 "nbformat_minor": 1
}
